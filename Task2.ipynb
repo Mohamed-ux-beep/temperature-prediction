{
  "nbformat": 4,
  "nbformat_minor": 0,
  "metadata": {
    "colab": {
      "provenance": [],
      "gpuType": "T4",
      "authorship_tag": "ABX9TyOY+fg68nIliCqIoEtpc3vc",
      "include_colab_link": true
    },
    "kernelspec": {
      "name": "python3",
      "display_name": "Python 3"
    },
    "language_info": {
      "name": "python"
    },
    "accelerator": "GPU"
  },
  "cells": [
    {
      "cell_type": "markdown",
      "metadata": {
        "id": "view-in-github",
        "colab_type": "text"
      },
      "source": [
        "<a href=\"https://colab.research.google.com/github/Mohamed-ux-beep/temperature-prediction/blob/main/Task2.ipynb\" target=\"_parent\"><img src=\"https://colab.research.google.com/assets/colab-badge.svg\" alt=\"Open In Colab\"/></a>"
      ]
    },
    {
      "cell_type": "code",
      "execution_count": null,
      "metadata": {
        "id": "4wMStXd6WY61"
      },
      "outputs": [],
      "source": [
        "#!pip install wandb"
      ]
    },
    {
      "cell_type": "code",
      "source": [
        "import pandas as pd\n",
        "import numpy as np\n",
        "import torch\n",
        "import torch.nn as nn\n",
        "import torch.optim as optim\n",
        "from sklearn.preprocessing import MinMaxScaler\n",
        "from sklearn.model_selection import train_test_split\n",
        "#import wandb\n",
        "from torch.utils.data import TensorDataset, DataLoader\n",
        "import math\n",
        "from tqdm import tqdm\n",
        "import random"
      ],
      "metadata": {
        "id": "JUVC2DaYWp4y"
      },
      "execution_count": 1,
      "outputs": []
    },
    {
      "cell_type": "markdown",
      "source": [
        "**Using wandb to optimize the hyperparameter**"
      ],
      "metadata": {
        "id": "ZOUMPM1pW9vG"
      }
    },
    {
      "cell_type": "code",
      "source": [
        "#wandb.login(key=\"b32a025379eee48c2089066791e79b06405c0d93\")"
      ],
      "metadata": {
        "id": "LS6YjrSDWzKR"
      },
      "execution_count": null,
      "outputs": []
    },
    {
      "cell_type": "code",
      "source": [
        "# Initialize W&B\n",
        "#wandb.init(project=\"experiment3\", entity=\"mohamedabokahf70\")"
      ],
      "metadata": {
        "id": "0mSCOHy3XGuo"
      },
      "execution_count": null,
      "outputs": []
    },
    {
      "cell_type": "code",
      "source": [
        "# Define the hyperparameters you want to optimize\n",
        "#config = wandb.config\n",
        "#config.learning_rate = 0.001\n",
        "#config.hidden_size = 64\n",
        "#config.num_layers = 2\n",
        "#config.batch_size = 32"
      ],
      "metadata": {
        "id": "bryf82j3XZck"
      },
      "execution_count": 5,
      "outputs": []
    },
    {
      "cell_type": "code",
      "source": [
        "data = pd.read_csv(\"/content/train.csv\", header=None)"
      ],
      "metadata": {
        "id": "toZ6jjsJXo9j"
      },
      "execution_count": 3,
      "outputs": []
    },
    {
      "cell_type": "code",
      "source": [
        "# spliting the data to training and validation 80% training and 20% testing\n",
        "stop = 0.8 * len(data)\n",
        "stop = math.floor(stop)\n",
        "train_data = data[0:stop]\n",
        "valid_data = data[stop:len(data)]"
      ],
      "metadata": {
        "id": "WbGlPIwvXt_b"
      },
      "execution_count": 4,
      "outputs": []
    },
    {
      "cell_type": "code",
      "source": [
        "train_data.head()"
      ],
      "metadata": {
        "colab": {
          "base_uri": "https://localhost:8080/",
          "height": 233
        },
        "id": "k7zSbKmle8Wt",
        "outputId": "67e893f5-f0c1-4f0e-ba70-e8c790bb5bf5"
      },
      "execution_count": 5,
      "outputs": [
        {
          "output_type": "execute_result",
          "data": {
            "text/plain": [
              "   0     1     2     3     4     5     6     7     8     9     ...  3640  \\\n",
              "0   3.1  -0.5   0.0  -0.5  -0.6   1.1   2.2   1.3   1.3  -0.4  ...   3.9   \n",
              "1  -5.3  -4.0  -2.4  -2.2  -8.4  -5.5  -1.4  -4.5  -0.3  -0.7  ...   0.9   \n",
              "2  -0.3  -3.3  -0.7   2.4   3.3   3.1  -1.8  -8.4   0.8  -1.8  ...   2.9   \n",
              "3  -8.7  -9.2  -8.6  -7.7  -7.2  -1.6   0.7   1.3   2.4   0.8  ...  -4.9   \n",
              "4   8.9   7.7   5.9   8.4   6.5   3.3   1.8   0.5  -1.0   1.3  ...   5.0   \n",
              "\n",
              "   3641  3642  3643  3644  3645  3646  3647  3648  3649  \n",
              "0   0.6   1.4   8.5   4.0   3.7  -1.3  -4.1  -3.9  -3.8  \n",
              "1  -0.4  -1.5   1.6   1.8  -0.3   1.2   0.8  -2.1  -3.1  \n",
              "2  -2.3  -8.1  -7.4  -6.1  -8.6  -8.1  -4.9  -2.1  -5.4  \n",
              "3  -5.4  -1.0  -3.3  -6.3  -6.9  -0.4  -4.3  -5.8  -6.4  \n",
              "4   3.9   4.2   9.4  11.2   5.3   5.6   9.4  11.2   9.9  \n",
              "\n",
              "[5 rows x 3650 columns]"
            ],
            "text/html": [
              "\n",
              "  <div id=\"df-46d96804-6a80-4191-a68a-0f25694352ac\" class=\"colab-df-container\">\n",
              "    <div>\n",
              "<style scoped>\n",
              "    .dataframe tbody tr th:only-of-type {\n",
              "        vertical-align: middle;\n",
              "    }\n",
              "\n",
              "    .dataframe tbody tr th {\n",
              "        vertical-align: top;\n",
              "    }\n",
              "\n",
              "    .dataframe thead th {\n",
              "        text-align: right;\n",
              "    }\n",
              "</style>\n",
              "<table border=\"1\" class=\"dataframe\">\n",
              "  <thead>\n",
              "    <tr style=\"text-align: right;\">\n",
              "      <th></th>\n",
              "      <th>0</th>\n",
              "      <th>1</th>\n",
              "      <th>2</th>\n",
              "      <th>3</th>\n",
              "      <th>4</th>\n",
              "      <th>5</th>\n",
              "      <th>6</th>\n",
              "      <th>7</th>\n",
              "      <th>8</th>\n",
              "      <th>9</th>\n",
              "      <th>...</th>\n",
              "      <th>3640</th>\n",
              "      <th>3641</th>\n",
              "      <th>3642</th>\n",
              "      <th>3643</th>\n",
              "      <th>3644</th>\n",
              "      <th>3645</th>\n",
              "      <th>3646</th>\n",
              "      <th>3647</th>\n",
              "      <th>3648</th>\n",
              "      <th>3649</th>\n",
              "    </tr>\n",
              "  </thead>\n",
              "  <tbody>\n",
              "    <tr>\n",
              "      <th>0</th>\n",
              "      <td>3.1</td>\n",
              "      <td>-0.5</td>\n",
              "      <td>0.0</td>\n",
              "      <td>-0.5</td>\n",
              "      <td>-0.6</td>\n",
              "      <td>1.1</td>\n",
              "      <td>2.2</td>\n",
              "      <td>1.3</td>\n",
              "      <td>1.3</td>\n",
              "      <td>-0.4</td>\n",
              "      <td>...</td>\n",
              "      <td>3.9</td>\n",
              "      <td>0.6</td>\n",
              "      <td>1.4</td>\n",
              "      <td>8.5</td>\n",
              "      <td>4.0</td>\n",
              "      <td>3.7</td>\n",
              "      <td>-1.3</td>\n",
              "      <td>-4.1</td>\n",
              "      <td>-3.9</td>\n",
              "      <td>-3.8</td>\n",
              "    </tr>\n",
              "    <tr>\n",
              "      <th>1</th>\n",
              "      <td>-5.3</td>\n",
              "      <td>-4.0</td>\n",
              "      <td>-2.4</td>\n",
              "      <td>-2.2</td>\n",
              "      <td>-8.4</td>\n",
              "      <td>-5.5</td>\n",
              "      <td>-1.4</td>\n",
              "      <td>-4.5</td>\n",
              "      <td>-0.3</td>\n",
              "      <td>-0.7</td>\n",
              "      <td>...</td>\n",
              "      <td>0.9</td>\n",
              "      <td>-0.4</td>\n",
              "      <td>-1.5</td>\n",
              "      <td>1.6</td>\n",
              "      <td>1.8</td>\n",
              "      <td>-0.3</td>\n",
              "      <td>1.2</td>\n",
              "      <td>0.8</td>\n",
              "      <td>-2.1</td>\n",
              "      <td>-3.1</td>\n",
              "    </tr>\n",
              "    <tr>\n",
              "      <th>2</th>\n",
              "      <td>-0.3</td>\n",
              "      <td>-3.3</td>\n",
              "      <td>-0.7</td>\n",
              "      <td>2.4</td>\n",
              "      <td>3.3</td>\n",
              "      <td>3.1</td>\n",
              "      <td>-1.8</td>\n",
              "      <td>-8.4</td>\n",
              "      <td>0.8</td>\n",
              "      <td>-1.8</td>\n",
              "      <td>...</td>\n",
              "      <td>2.9</td>\n",
              "      <td>-2.3</td>\n",
              "      <td>-8.1</td>\n",
              "      <td>-7.4</td>\n",
              "      <td>-6.1</td>\n",
              "      <td>-8.6</td>\n",
              "      <td>-8.1</td>\n",
              "      <td>-4.9</td>\n",
              "      <td>-2.1</td>\n",
              "      <td>-5.4</td>\n",
              "    </tr>\n",
              "    <tr>\n",
              "      <th>3</th>\n",
              "      <td>-8.7</td>\n",
              "      <td>-9.2</td>\n",
              "      <td>-8.6</td>\n",
              "      <td>-7.7</td>\n",
              "      <td>-7.2</td>\n",
              "      <td>-1.6</td>\n",
              "      <td>0.7</td>\n",
              "      <td>1.3</td>\n",
              "      <td>2.4</td>\n",
              "      <td>0.8</td>\n",
              "      <td>...</td>\n",
              "      <td>-4.9</td>\n",
              "      <td>-5.4</td>\n",
              "      <td>-1.0</td>\n",
              "      <td>-3.3</td>\n",
              "      <td>-6.3</td>\n",
              "      <td>-6.9</td>\n",
              "      <td>-0.4</td>\n",
              "      <td>-4.3</td>\n",
              "      <td>-5.8</td>\n",
              "      <td>-6.4</td>\n",
              "    </tr>\n",
              "    <tr>\n",
              "      <th>4</th>\n",
              "      <td>8.9</td>\n",
              "      <td>7.7</td>\n",
              "      <td>5.9</td>\n",
              "      <td>8.4</td>\n",
              "      <td>6.5</td>\n",
              "      <td>3.3</td>\n",
              "      <td>1.8</td>\n",
              "      <td>0.5</td>\n",
              "      <td>-1.0</td>\n",
              "      <td>1.3</td>\n",
              "      <td>...</td>\n",
              "      <td>5.0</td>\n",
              "      <td>3.9</td>\n",
              "      <td>4.2</td>\n",
              "      <td>9.4</td>\n",
              "      <td>11.2</td>\n",
              "      <td>5.3</td>\n",
              "      <td>5.6</td>\n",
              "      <td>9.4</td>\n",
              "      <td>11.2</td>\n",
              "      <td>9.9</td>\n",
              "    </tr>\n",
              "  </tbody>\n",
              "</table>\n",
              "<p>5 rows × 3650 columns</p>\n",
              "</div>\n",
              "    <div class=\"colab-df-buttons\">\n",
              "\n",
              "  <div class=\"colab-df-container\">\n",
              "    <button class=\"colab-df-convert\" onclick=\"convertToInteractive('df-46d96804-6a80-4191-a68a-0f25694352ac')\"\n",
              "            title=\"Convert this dataframe to an interactive table.\"\n",
              "            style=\"display:none;\">\n",
              "\n",
              "  <svg xmlns=\"http://www.w3.org/2000/svg\" height=\"24px\" viewBox=\"0 -960 960 960\">\n",
              "    <path d=\"M120-120v-720h720v720H120Zm60-500h600v-160H180v160Zm220 220h160v-160H400v160Zm0 220h160v-160H400v160ZM180-400h160v-160H180v160Zm440 0h160v-160H620v160ZM180-180h160v-160H180v160Zm440 0h160v-160H620v160Z\"/>\n",
              "  </svg>\n",
              "    </button>\n",
              "\n",
              "  <style>\n",
              "    .colab-df-container {\n",
              "      display:flex;\n",
              "      gap: 12px;\n",
              "    }\n",
              "\n",
              "    .colab-df-convert {\n",
              "      background-color: #E8F0FE;\n",
              "      border: none;\n",
              "      border-radius: 50%;\n",
              "      cursor: pointer;\n",
              "      display: none;\n",
              "      fill: #1967D2;\n",
              "      height: 32px;\n",
              "      padding: 0 0 0 0;\n",
              "      width: 32px;\n",
              "    }\n",
              "\n",
              "    .colab-df-convert:hover {\n",
              "      background-color: #E2EBFA;\n",
              "      box-shadow: 0px 1px 2px rgba(60, 64, 67, 0.3), 0px 1px 3px 1px rgba(60, 64, 67, 0.15);\n",
              "      fill: #174EA6;\n",
              "    }\n",
              "\n",
              "    .colab-df-buttons div {\n",
              "      margin-bottom: 4px;\n",
              "    }\n",
              "\n",
              "    [theme=dark] .colab-df-convert {\n",
              "      background-color: #3B4455;\n",
              "      fill: #D2E3FC;\n",
              "    }\n",
              "\n",
              "    [theme=dark] .colab-df-convert:hover {\n",
              "      background-color: #434B5C;\n",
              "      box-shadow: 0px 1px 3px 1px rgba(0, 0, 0, 0.15);\n",
              "      filter: drop-shadow(0px 1px 2px rgba(0, 0, 0, 0.3));\n",
              "      fill: #FFFFFF;\n",
              "    }\n",
              "  </style>\n",
              "\n",
              "    <script>\n",
              "      const buttonEl =\n",
              "        document.querySelector('#df-46d96804-6a80-4191-a68a-0f25694352ac button.colab-df-convert');\n",
              "      buttonEl.style.display =\n",
              "        google.colab.kernel.accessAllowed ? 'block' : 'none';\n",
              "\n",
              "      async function convertToInteractive(key) {\n",
              "        const element = document.querySelector('#df-46d96804-6a80-4191-a68a-0f25694352ac');\n",
              "        const dataTable =\n",
              "          await google.colab.kernel.invokeFunction('convertToInteractive',\n",
              "                                                    [key], {});\n",
              "        if (!dataTable) return;\n",
              "\n",
              "        const docLinkHtml = 'Like what you see? Visit the ' +\n",
              "          '<a target=\"_blank\" href=https://colab.research.google.com/notebooks/data_table.ipynb>data table notebook</a>'\n",
              "          + ' to learn more about interactive tables.';\n",
              "        element.innerHTML = '';\n",
              "        dataTable['output_type'] = 'display_data';\n",
              "        await google.colab.output.renderOutput(dataTable, element);\n",
              "        const docLink = document.createElement('div');\n",
              "        docLink.innerHTML = docLinkHtml;\n",
              "        element.appendChild(docLink);\n",
              "      }\n",
              "    </script>\n",
              "  </div>\n",
              "\n",
              "\n",
              "<div id=\"df-91833c82-fbca-49c1-85cd-990060d7b418\">\n",
              "  <button class=\"colab-df-quickchart\" onclick=\"quickchart('df-91833c82-fbca-49c1-85cd-990060d7b418')\"\n",
              "            title=\"Suggest charts\"\n",
              "            style=\"display:none;\">\n",
              "\n",
              "<svg xmlns=\"http://www.w3.org/2000/svg\" height=\"24px\"viewBox=\"0 0 24 24\"\n",
              "     width=\"24px\">\n",
              "    <g>\n",
              "        <path d=\"M19 3H5c-1.1 0-2 .9-2 2v14c0 1.1.9 2 2 2h14c1.1 0 2-.9 2-2V5c0-1.1-.9-2-2-2zM9 17H7v-7h2v7zm4 0h-2V7h2v10zm4 0h-2v-4h2v4z\"/>\n",
              "    </g>\n",
              "</svg>\n",
              "  </button>\n",
              "\n",
              "<style>\n",
              "  .colab-df-quickchart {\n",
              "      --bg-color: #E8F0FE;\n",
              "      --fill-color: #1967D2;\n",
              "      --hover-bg-color: #E2EBFA;\n",
              "      --hover-fill-color: #174EA6;\n",
              "      --disabled-fill-color: #AAA;\n",
              "      --disabled-bg-color: #DDD;\n",
              "  }\n",
              "\n",
              "  [theme=dark] .colab-df-quickchart {\n",
              "      --bg-color: #3B4455;\n",
              "      --fill-color: #D2E3FC;\n",
              "      --hover-bg-color: #434B5C;\n",
              "      --hover-fill-color: #FFFFFF;\n",
              "      --disabled-bg-color: #3B4455;\n",
              "      --disabled-fill-color: #666;\n",
              "  }\n",
              "\n",
              "  .colab-df-quickchart {\n",
              "    background-color: var(--bg-color);\n",
              "    border: none;\n",
              "    border-radius: 50%;\n",
              "    cursor: pointer;\n",
              "    display: none;\n",
              "    fill: var(--fill-color);\n",
              "    height: 32px;\n",
              "    padding: 0;\n",
              "    width: 32px;\n",
              "  }\n",
              "\n",
              "  .colab-df-quickchart:hover {\n",
              "    background-color: var(--hover-bg-color);\n",
              "    box-shadow: 0 1px 2px rgba(60, 64, 67, 0.3), 0 1px 3px 1px rgba(60, 64, 67, 0.15);\n",
              "    fill: var(--button-hover-fill-color);\n",
              "  }\n",
              "\n",
              "  .colab-df-quickchart-complete:disabled,\n",
              "  .colab-df-quickchart-complete:disabled:hover {\n",
              "    background-color: var(--disabled-bg-color);\n",
              "    fill: var(--disabled-fill-color);\n",
              "    box-shadow: none;\n",
              "  }\n",
              "\n",
              "  .colab-df-spinner {\n",
              "    border: 2px solid var(--fill-color);\n",
              "    border-color: transparent;\n",
              "    border-bottom-color: var(--fill-color);\n",
              "    animation:\n",
              "      spin 1s steps(1) infinite;\n",
              "  }\n",
              "\n",
              "  @keyframes spin {\n",
              "    0% {\n",
              "      border-color: transparent;\n",
              "      border-bottom-color: var(--fill-color);\n",
              "      border-left-color: var(--fill-color);\n",
              "    }\n",
              "    20% {\n",
              "      border-color: transparent;\n",
              "      border-left-color: var(--fill-color);\n",
              "      border-top-color: var(--fill-color);\n",
              "    }\n",
              "    30% {\n",
              "      border-color: transparent;\n",
              "      border-left-color: var(--fill-color);\n",
              "      border-top-color: var(--fill-color);\n",
              "      border-right-color: var(--fill-color);\n",
              "    }\n",
              "    40% {\n",
              "      border-color: transparent;\n",
              "      border-right-color: var(--fill-color);\n",
              "      border-top-color: var(--fill-color);\n",
              "    }\n",
              "    60% {\n",
              "      border-color: transparent;\n",
              "      border-right-color: var(--fill-color);\n",
              "    }\n",
              "    80% {\n",
              "      border-color: transparent;\n",
              "      border-right-color: var(--fill-color);\n",
              "      border-bottom-color: var(--fill-color);\n",
              "    }\n",
              "    90% {\n",
              "      border-color: transparent;\n",
              "      border-bottom-color: var(--fill-color);\n",
              "    }\n",
              "  }\n",
              "</style>\n",
              "\n",
              "  <script>\n",
              "    async function quickchart(key) {\n",
              "      const quickchartButtonEl =\n",
              "        document.querySelector('#' + key + ' button');\n",
              "      quickchartButtonEl.disabled = true;  // To prevent multiple clicks.\n",
              "      quickchartButtonEl.classList.add('colab-df-spinner');\n",
              "      try {\n",
              "        const charts = await google.colab.kernel.invokeFunction(\n",
              "            'suggestCharts', [key], {});\n",
              "      } catch (error) {\n",
              "        console.error('Error during call to suggestCharts:', error);\n",
              "      }\n",
              "      quickchartButtonEl.classList.remove('colab-df-spinner');\n",
              "      quickchartButtonEl.classList.add('colab-df-quickchart-complete');\n",
              "    }\n",
              "    (() => {\n",
              "      let quickchartButtonEl =\n",
              "        document.querySelector('#df-91833c82-fbca-49c1-85cd-990060d7b418 button');\n",
              "      quickchartButtonEl.style.display =\n",
              "        google.colab.kernel.accessAllowed ? 'block' : 'none';\n",
              "    })();\n",
              "  </script>\n",
              "</div>\n",
              "    </div>\n",
              "  </div>\n"
            ]
          },
          "metadata": {},
          "execution_count": 5
        }
      ]
    },
    {
      "cell_type": "code",
      "source": [
        "valid_data.head()"
      ],
      "metadata": {
        "colab": {
          "base_uri": "https://localhost:8080/",
          "height": 202
        },
        "id": "NKu5QGCimPNX",
        "outputId": "4218c13d-55dc-4f42-9fa4-3334c1c464dc"
      },
      "execution_count": 6,
      "outputs": [
        {
          "output_type": "execute_result",
          "data": {
            "text/plain": [
              "    0     1     2     3     4     5     6     7     8     9     ...  3640  \\\n",
              "14  -6.0   1.3   1.1   1.3   1.8   2.6   2.8  -1.0 -11.2 -12.9  ...  -4.6   \n",
              "15   2.6   5.4   3.1  -0.4  -3.5  -0.1   2.4   5.7   4.1   3.1  ...   4.4   \n",
              "16  -2.2  -0.9   1.8  -0.4  -2.1  -2.6  -3.8  -4.6  -5.0  -4.2  ...   2.9   \n",
              "17  -1.9  -3.2   2.4  -1.5  -0.7   3.3   2.5   0.6  -1.1   1.6  ...   9.4   \n",
              "\n",
              "    3641  3642  3643  3644  3645  3646  3647  3648  3649  \n",
              "14  -0.7  -2.0  -0.9  -4.7  -1.0  -0.2  -0.7  -0.9  -5.4  \n",
              "15   3.3   1.4   0.7  -0.6  -0.1  -0.3  -0.9   2.5   1.5  \n",
              "16   6.5   6.2   3.8  -0.1  -1.7  -4.9  -7.5  -3.3  -0.2  \n",
              "17   4.0   1.0   3.7   6.3   3.2   8.0   8.6   8.5   9.0  \n",
              "\n",
              "[4 rows x 3650 columns]"
            ],
            "text/html": [
              "\n",
              "  <div id=\"df-d786c038-bf3e-4d52-95d7-32faaf54f301\" class=\"colab-df-container\">\n",
              "    <div>\n",
              "<style scoped>\n",
              "    .dataframe tbody tr th:only-of-type {\n",
              "        vertical-align: middle;\n",
              "    }\n",
              "\n",
              "    .dataframe tbody tr th {\n",
              "        vertical-align: top;\n",
              "    }\n",
              "\n",
              "    .dataframe thead th {\n",
              "        text-align: right;\n",
              "    }\n",
              "</style>\n",
              "<table border=\"1\" class=\"dataframe\">\n",
              "  <thead>\n",
              "    <tr style=\"text-align: right;\">\n",
              "      <th></th>\n",
              "      <th>0</th>\n",
              "      <th>1</th>\n",
              "      <th>2</th>\n",
              "      <th>3</th>\n",
              "      <th>4</th>\n",
              "      <th>5</th>\n",
              "      <th>6</th>\n",
              "      <th>7</th>\n",
              "      <th>8</th>\n",
              "      <th>9</th>\n",
              "      <th>...</th>\n",
              "      <th>3640</th>\n",
              "      <th>3641</th>\n",
              "      <th>3642</th>\n",
              "      <th>3643</th>\n",
              "      <th>3644</th>\n",
              "      <th>3645</th>\n",
              "      <th>3646</th>\n",
              "      <th>3647</th>\n",
              "      <th>3648</th>\n",
              "      <th>3649</th>\n",
              "    </tr>\n",
              "  </thead>\n",
              "  <tbody>\n",
              "    <tr>\n",
              "      <th>14</th>\n",
              "      <td>-6.0</td>\n",
              "      <td>1.3</td>\n",
              "      <td>1.1</td>\n",
              "      <td>1.3</td>\n",
              "      <td>1.8</td>\n",
              "      <td>2.6</td>\n",
              "      <td>2.8</td>\n",
              "      <td>-1.0</td>\n",
              "      <td>-11.2</td>\n",
              "      <td>-12.9</td>\n",
              "      <td>...</td>\n",
              "      <td>-4.6</td>\n",
              "      <td>-0.7</td>\n",
              "      <td>-2.0</td>\n",
              "      <td>-0.9</td>\n",
              "      <td>-4.7</td>\n",
              "      <td>-1.0</td>\n",
              "      <td>-0.2</td>\n",
              "      <td>-0.7</td>\n",
              "      <td>-0.9</td>\n",
              "      <td>-5.4</td>\n",
              "    </tr>\n",
              "    <tr>\n",
              "      <th>15</th>\n",
              "      <td>2.6</td>\n",
              "      <td>5.4</td>\n",
              "      <td>3.1</td>\n",
              "      <td>-0.4</td>\n",
              "      <td>-3.5</td>\n",
              "      <td>-0.1</td>\n",
              "      <td>2.4</td>\n",
              "      <td>5.7</td>\n",
              "      <td>4.1</td>\n",
              "      <td>3.1</td>\n",
              "      <td>...</td>\n",
              "      <td>4.4</td>\n",
              "      <td>3.3</td>\n",
              "      <td>1.4</td>\n",
              "      <td>0.7</td>\n",
              "      <td>-0.6</td>\n",
              "      <td>-0.1</td>\n",
              "      <td>-0.3</td>\n",
              "      <td>-0.9</td>\n",
              "      <td>2.5</td>\n",
              "      <td>1.5</td>\n",
              "    </tr>\n",
              "    <tr>\n",
              "      <th>16</th>\n",
              "      <td>-2.2</td>\n",
              "      <td>-0.9</td>\n",
              "      <td>1.8</td>\n",
              "      <td>-0.4</td>\n",
              "      <td>-2.1</td>\n",
              "      <td>-2.6</td>\n",
              "      <td>-3.8</td>\n",
              "      <td>-4.6</td>\n",
              "      <td>-5.0</td>\n",
              "      <td>-4.2</td>\n",
              "      <td>...</td>\n",
              "      <td>2.9</td>\n",
              "      <td>6.5</td>\n",
              "      <td>6.2</td>\n",
              "      <td>3.8</td>\n",
              "      <td>-0.1</td>\n",
              "      <td>-1.7</td>\n",
              "      <td>-4.9</td>\n",
              "      <td>-7.5</td>\n",
              "      <td>-3.3</td>\n",
              "      <td>-0.2</td>\n",
              "    </tr>\n",
              "    <tr>\n",
              "      <th>17</th>\n",
              "      <td>-1.9</td>\n",
              "      <td>-3.2</td>\n",
              "      <td>2.4</td>\n",
              "      <td>-1.5</td>\n",
              "      <td>-0.7</td>\n",
              "      <td>3.3</td>\n",
              "      <td>2.5</td>\n",
              "      <td>0.6</td>\n",
              "      <td>-1.1</td>\n",
              "      <td>1.6</td>\n",
              "      <td>...</td>\n",
              "      <td>9.4</td>\n",
              "      <td>4.0</td>\n",
              "      <td>1.0</td>\n",
              "      <td>3.7</td>\n",
              "      <td>6.3</td>\n",
              "      <td>3.2</td>\n",
              "      <td>8.0</td>\n",
              "      <td>8.6</td>\n",
              "      <td>8.5</td>\n",
              "      <td>9.0</td>\n",
              "    </tr>\n",
              "  </tbody>\n",
              "</table>\n",
              "<p>4 rows × 3650 columns</p>\n",
              "</div>\n",
              "    <div class=\"colab-df-buttons\">\n",
              "\n",
              "  <div class=\"colab-df-container\">\n",
              "    <button class=\"colab-df-convert\" onclick=\"convertToInteractive('df-d786c038-bf3e-4d52-95d7-32faaf54f301')\"\n",
              "            title=\"Convert this dataframe to an interactive table.\"\n",
              "            style=\"display:none;\">\n",
              "\n",
              "  <svg xmlns=\"http://www.w3.org/2000/svg\" height=\"24px\" viewBox=\"0 -960 960 960\">\n",
              "    <path d=\"M120-120v-720h720v720H120Zm60-500h600v-160H180v160Zm220 220h160v-160H400v160Zm0 220h160v-160H400v160ZM180-400h160v-160H180v160Zm440 0h160v-160H620v160ZM180-180h160v-160H180v160Zm440 0h160v-160H620v160Z\"/>\n",
              "  </svg>\n",
              "    </button>\n",
              "\n",
              "  <style>\n",
              "    .colab-df-container {\n",
              "      display:flex;\n",
              "      gap: 12px;\n",
              "    }\n",
              "\n",
              "    .colab-df-convert {\n",
              "      background-color: #E8F0FE;\n",
              "      border: none;\n",
              "      border-radius: 50%;\n",
              "      cursor: pointer;\n",
              "      display: none;\n",
              "      fill: #1967D2;\n",
              "      height: 32px;\n",
              "      padding: 0 0 0 0;\n",
              "      width: 32px;\n",
              "    }\n",
              "\n",
              "    .colab-df-convert:hover {\n",
              "      background-color: #E2EBFA;\n",
              "      box-shadow: 0px 1px 2px rgba(60, 64, 67, 0.3), 0px 1px 3px 1px rgba(60, 64, 67, 0.15);\n",
              "      fill: #174EA6;\n",
              "    }\n",
              "\n",
              "    .colab-df-buttons div {\n",
              "      margin-bottom: 4px;\n",
              "    }\n",
              "\n",
              "    [theme=dark] .colab-df-convert {\n",
              "      background-color: #3B4455;\n",
              "      fill: #D2E3FC;\n",
              "    }\n",
              "\n",
              "    [theme=dark] .colab-df-convert:hover {\n",
              "      background-color: #434B5C;\n",
              "      box-shadow: 0px 1px 3px 1px rgba(0, 0, 0, 0.15);\n",
              "      filter: drop-shadow(0px 1px 2px rgba(0, 0, 0, 0.3));\n",
              "      fill: #FFFFFF;\n",
              "    }\n",
              "  </style>\n",
              "\n",
              "    <script>\n",
              "      const buttonEl =\n",
              "        document.querySelector('#df-d786c038-bf3e-4d52-95d7-32faaf54f301 button.colab-df-convert');\n",
              "      buttonEl.style.display =\n",
              "        google.colab.kernel.accessAllowed ? 'block' : 'none';\n",
              "\n",
              "      async function convertToInteractive(key) {\n",
              "        const element = document.querySelector('#df-d786c038-bf3e-4d52-95d7-32faaf54f301');\n",
              "        const dataTable =\n",
              "          await google.colab.kernel.invokeFunction('convertToInteractive',\n",
              "                                                    [key], {});\n",
              "        if (!dataTable) return;\n",
              "\n",
              "        const docLinkHtml = 'Like what you see? Visit the ' +\n",
              "          '<a target=\"_blank\" href=https://colab.research.google.com/notebooks/data_table.ipynb>data table notebook</a>'\n",
              "          + ' to learn more about interactive tables.';\n",
              "        element.innerHTML = '';\n",
              "        dataTable['output_type'] = 'display_data';\n",
              "        await google.colab.output.renderOutput(dataTable, element);\n",
              "        const docLink = document.createElement('div');\n",
              "        docLink.innerHTML = docLinkHtml;\n",
              "        element.appendChild(docLink);\n",
              "      }\n",
              "    </script>\n",
              "  </div>\n",
              "\n",
              "\n",
              "<div id=\"df-134ad61d-d7de-4511-b622-137411023def\">\n",
              "  <button class=\"colab-df-quickchart\" onclick=\"quickchart('df-134ad61d-d7de-4511-b622-137411023def')\"\n",
              "            title=\"Suggest charts\"\n",
              "            style=\"display:none;\">\n",
              "\n",
              "<svg xmlns=\"http://www.w3.org/2000/svg\" height=\"24px\"viewBox=\"0 0 24 24\"\n",
              "     width=\"24px\">\n",
              "    <g>\n",
              "        <path d=\"M19 3H5c-1.1 0-2 .9-2 2v14c0 1.1.9 2 2 2h14c1.1 0 2-.9 2-2V5c0-1.1-.9-2-2-2zM9 17H7v-7h2v7zm4 0h-2V7h2v10zm4 0h-2v-4h2v4z\"/>\n",
              "    </g>\n",
              "</svg>\n",
              "  </button>\n",
              "\n",
              "<style>\n",
              "  .colab-df-quickchart {\n",
              "      --bg-color: #E8F0FE;\n",
              "      --fill-color: #1967D2;\n",
              "      --hover-bg-color: #E2EBFA;\n",
              "      --hover-fill-color: #174EA6;\n",
              "      --disabled-fill-color: #AAA;\n",
              "      --disabled-bg-color: #DDD;\n",
              "  }\n",
              "\n",
              "  [theme=dark] .colab-df-quickchart {\n",
              "      --bg-color: #3B4455;\n",
              "      --fill-color: #D2E3FC;\n",
              "      --hover-bg-color: #434B5C;\n",
              "      --hover-fill-color: #FFFFFF;\n",
              "      --disabled-bg-color: #3B4455;\n",
              "      --disabled-fill-color: #666;\n",
              "  }\n",
              "\n",
              "  .colab-df-quickchart {\n",
              "    background-color: var(--bg-color);\n",
              "    border: none;\n",
              "    border-radius: 50%;\n",
              "    cursor: pointer;\n",
              "    display: none;\n",
              "    fill: var(--fill-color);\n",
              "    height: 32px;\n",
              "    padding: 0;\n",
              "    width: 32px;\n",
              "  }\n",
              "\n",
              "  .colab-df-quickchart:hover {\n",
              "    background-color: var(--hover-bg-color);\n",
              "    box-shadow: 0 1px 2px rgba(60, 64, 67, 0.3), 0 1px 3px 1px rgba(60, 64, 67, 0.15);\n",
              "    fill: var(--button-hover-fill-color);\n",
              "  }\n",
              "\n",
              "  .colab-df-quickchart-complete:disabled,\n",
              "  .colab-df-quickchart-complete:disabled:hover {\n",
              "    background-color: var(--disabled-bg-color);\n",
              "    fill: var(--disabled-fill-color);\n",
              "    box-shadow: none;\n",
              "  }\n",
              "\n",
              "  .colab-df-spinner {\n",
              "    border: 2px solid var(--fill-color);\n",
              "    border-color: transparent;\n",
              "    border-bottom-color: var(--fill-color);\n",
              "    animation:\n",
              "      spin 1s steps(1) infinite;\n",
              "  }\n",
              "\n",
              "  @keyframes spin {\n",
              "    0% {\n",
              "      border-color: transparent;\n",
              "      border-bottom-color: var(--fill-color);\n",
              "      border-left-color: var(--fill-color);\n",
              "    }\n",
              "    20% {\n",
              "      border-color: transparent;\n",
              "      border-left-color: var(--fill-color);\n",
              "      border-top-color: var(--fill-color);\n",
              "    }\n",
              "    30% {\n",
              "      border-color: transparent;\n",
              "      border-left-color: var(--fill-color);\n",
              "      border-top-color: var(--fill-color);\n",
              "      border-right-color: var(--fill-color);\n",
              "    }\n",
              "    40% {\n",
              "      border-color: transparent;\n",
              "      border-right-color: var(--fill-color);\n",
              "      border-top-color: var(--fill-color);\n",
              "    }\n",
              "    60% {\n",
              "      border-color: transparent;\n",
              "      border-right-color: var(--fill-color);\n",
              "    }\n",
              "    80% {\n",
              "      border-color: transparent;\n",
              "      border-right-color: var(--fill-color);\n",
              "      border-bottom-color: var(--fill-color);\n",
              "    }\n",
              "    90% {\n",
              "      border-color: transparent;\n",
              "      border-bottom-color: var(--fill-color);\n",
              "    }\n",
              "  }\n",
              "</style>\n",
              "\n",
              "  <script>\n",
              "    async function quickchart(key) {\n",
              "      const quickchartButtonEl =\n",
              "        document.querySelector('#' + key + ' button');\n",
              "      quickchartButtonEl.disabled = true;  // To prevent multiple clicks.\n",
              "      quickchartButtonEl.classList.add('colab-df-spinner');\n",
              "      try {\n",
              "        const charts = await google.colab.kernel.invokeFunction(\n",
              "            'suggestCharts', [key], {});\n",
              "      } catch (error) {\n",
              "        console.error('Error during call to suggestCharts:', error);\n",
              "      }\n",
              "      quickchartButtonEl.classList.remove('colab-df-spinner');\n",
              "      quickchartButtonEl.classList.add('colab-df-quickchart-complete');\n",
              "    }\n",
              "    (() => {\n",
              "      let quickchartButtonEl =\n",
              "        document.querySelector('#df-134ad61d-d7de-4511-b622-137411023def button');\n",
              "      quickchartButtonEl.style.display =\n",
              "        google.colab.kernel.accessAllowed ? 'block' : 'none';\n",
              "    })();\n",
              "  </script>\n",
              "</div>\n",
              "    </div>\n",
              "  </div>\n"
            ]
          },
          "metadata": {},
          "execution_count": 6
        }
      ]
    },
    {
      "cell_type": "code",
      "source": [
        "# train_data is the training dataframe\n",
        "def get_rows(train_data):\n",
        "  x = []\n",
        "  for i in range(len(train_data)):\n",
        "    x.append(train_data.iloc[i])\n",
        "  print(f\" === returned X with the length of {len(train_data)} ===\")\n",
        "  return x"
      ],
      "metadata": {
        "id": "cQvZOYrV1YP4"
      },
      "execution_count": 7,
      "outputs": []
    },
    {
      "cell_type": "code",
      "source": [
        "# x is a list with the value of each row in the data frame, data is data frame with the temperature input & target\n",
        "def map_temp(x, data):\n",
        "  for i in range(len(x)):\n",
        "    for j in range(len(x[i])-97+1):\n",
        "      new_row = {'Input': list(x[i][j:j+90]) , 'target': list(x[i][j+90:j+97])}\n",
        "      row = pd.DataFrame([new_row])\n",
        "      data = pd.concat([data, row], ignore_index=True)\n",
        "  print(f\" === returned dataframe with the size of {len(x) * (len(x[0])-96)} === \")\n",
        "  return data"
      ],
      "metadata": {
        "id": "wGz4Uhj3qcy0"
      },
      "execution_count": 8,
      "outputs": []
    },
    {
      "cell_type": "code",
      "source": [
        "def seed_everything(seed):\n",
        "    np.random.seed(seed)\n",
        "    random.seed(seed)\n",
        "    torch.manual_seed(seed)\n",
        "    torch.cuda.manual_seed(seed)"
      ],
      "metadata": {
        "id": "MJO6wtLepj-M"
      },
      "execution_count": 9,
      "outputs": []
    },
    {
      "cell_type": "markdown",
      "source": [
        "**preparing the training data for the data loader**"
      ],
      "metadata": {
        "id": "Dwbop20vI6eR"
      }
    },
    {
      "cell_type": "code",
      "source": [
        "seed_everything(42)"
      ],
      "metadata": {
        "id": "R-0DVH1fqfRT"
      },
      "execution_count": 32,
      "outputs": []
    },
    {
      "cell_type": "code",
      "source": [
        "train_df = pd.DataFrame(columns=['Input', 'target'])"
      ],
      "metadata": {
        "id": "ojl4UzIQuzgc"
      },
      "execution_count": 33,
      "outputs": []
    },
    {
      "cell_type": "code",
      "source": [
        "print(\" === Getting the X for the training data === \\n\")\n",
        "X_train = get_rows(train_data)"
      ],
      "metadata": {
        "colab": {
          "base_uri": "https://localhost:8080/"
        },
        "id": "YDdYTTQADCNs",
        "outputId": "f0b18b6b-1ee2-4681-afb7-1f075d557b77"
      },
      "execution_count": 34,
      "outputs": [
        {
          "output_type": "stream",
          "name": "stdout",
          "text": [
            " === Getting the X for the training data === \n",
            "\n",
            " === returned X with the length of 14 ===\n"
          ]
        }
      ]
    },
    {
      "cell_type": "code",
      "source": [
        "tr_data = map_temp(X_train, train_df)"
      ],
      "metadata": {
        "colab": {
          "base_uri": "https://localhost:8080/"
        },
        "id": "GNp4fS__Dn7B",
        "outputId": "b04c458a-f44e-4627-808e-203c4d7e41c2"
      },
      "execution_count": 35,
      "outputs": [
        {
          "output_type": "stream",
          "name": "stdout",
          "text": [
            " === returned dataframe with the size of 49756 === \n"
          ]
        }
      ]
    },
    {
      "cell_type": "markdown",
      "source": [
        "**preparing the validation data for dataloader**"
      ],
      "metadata": {
        "id": "H3FoV9vKJHKP"
      }
    },
    {
      "cell_type": "code",
      "source": [
        "valid_df = pd.DataFrame(columns=['Input', 'target'])"
      ],
      "metadata": {
        "id": "KjGYIm5NJLKi"
      },
      "execution_count": 36,
      "outputs": []
    },
    {
      "cell_type": "code",
      "source": [
        "print(\" === Getting the X for the Validation data === \\n\")\n",
        "X_valid = get_rows(valid_data)"
      ],
      "metadata": {
        "colab": {
          "base_uri": "https://localhost:8080/"
        },
        "id": "jLwKnunsJQch",
        "outputId": "be30b0ef-8ace-4675-a857-39cdd584a52b"
      },
      "execution_count": 37,
      "outputs": [
        {
          "output_type": "stream",
          "name": "stdout",
          "text": [
            " === Getting the X for the Validation data === \n",
            "\n",
            " === returned X with the length of 4 ===\n"
          ]
        }
      ]
    },
    {
      "cell_type": "code",
      "source": [
        "val_data = map_temp(X_valid, valid_df)"
      ],
      "metadata": {
        "colab": {
          "base_uri": "https://localhost:8080/"
        },
        "id": "pzJv-x8zJaAx",
        "outputId": "a4e925e3-b9ae-4053-9723-37442127c4be"
      },
      "execution_count": 38,
      "outputs": [
        {
          "output_type": "stream",
          "name": "stdout",
          "text": [
            " === returned dataframe with the size of 14216 === \n"
          ]
        }
      ]
    },
    {
      "cell_type": "markdown",
      "source": [
        "**Normalization of training data**"
      ],
      "metadata": {
        "id": "AY6qLQl0LZF2"
      }
    },
    {
      "cell_type": "code",
      "source": [
        "tr_data.head()"
      ],
      "metadata": {
        "colab": {
          "base_uri": "https://localhost:8080/",
          "height": 204
        },
        "id": "aZr8NpD3LmP2",
        "outputId": "85cd8832-fd91-4b74-af98-a26e0a18b8fd"
      },
      "execution_count": 39,
      "outputs": [
        {
          "output_type": "execute_result",
          "data": {
            "text/plain": [
              "                                               Input  \\\n",
              "0  [3.1, -0.5, 0.0, -0.5, -0.6, 1.1, 2.2, 1.3, 1....   \n",
              "1  [-0.5, 0.0, -0.5, -0.6, 1.1, 2.2, 1.3, 1.3, -0...   \n",
              "2  [0.0, -0.5, -0.6, 1.1, 2.2, 1.3, 1.3, -0.4, 0....   \n",
              "3  [-0.5, -0.6, 1.1, 2.2, 1.3, 1.3, -0.4, 0.4, -0...   \n",
              "4  [-0.6, 1.1, 2.2, 1.3, 1.3, -0.4, 0.4, -0.7, 2....   \n",
              "\n",
              "                                      target  \n",
              "0  [0.0, -2.1, -0.8, -3.1, -0.8, -0.4, -1.2]  \n",
              "1  [-2.1, -0.8, -3.1, -0.8, -0.4, -1.2, 2.1]  \n",
              "2   [-0.8, -3.1, -0.8, -0.4, -1.2, 2.1, 3.1]  \n",
              "3    [-3.1, -0.8, -0.4, -1.2, 2.1, 3.1, 3.3]  \n",
              "4     [-0.8, -0.4, -1.2, 2.1, 3.1, 3.3, 3.4]  "
            ],
            "text/html": [
              "\n",
              "  <div id=\"df-31d29689-0e98-4a0d-a1e6-29830e2ea493\" class=\"colab-df-container\">\n",
              "    <div>\n",
              "<style scoped>\n",
              "    .dataframe tbody tr th:only-of-type {\n",
              "        vertical-align: middle;\n",
              "    }\n",
              "\n",
              "    .dataframe tbody tr th {\n",
              "        vertical-align: top;\n",
              "    }\n",
              "\n",
              "    .dataframe thead th {\n",
              "        text-align: right;\n",
              "    }\n",
              "</style>\n",
              "<table border=\"1\" class=\"dataframe\">\n",
              "  <thead>\n",
              "    <tr style=\"text-align: right;\">\n",
              "      <th></th>\n",
              "      <th>Input</th>\n",
              "      <th>target</th>\n",
              "    </tr>\n",
              "  </thead>\n",
              "  <tbody>\n",
              "    <tr>\n",
              "      <th>0</th>\n",
              "      <td>[3.1, -0.5, 0.0, -0.5, -0.6, 1.1, 2.2, 1.3, 1....</td>\n",
              "      <td>[0.0, -2.1, -0.8, -3.1, -0.8, -0.4, -1.2]</td>\n",
              "    </tr>\n",
              "    <tr>\n",
              "      <th>1</th>\n",
              "      <td>[-0.5, 0.0, -0.5, -0.6, 1.1, 2.2, 1.3, 1.3, -0...</td>\n",
              "      <td>[-2.1, -0.8, -3.1, -0.8, -0.4, -1.2, 2.1]</td>\n",
              "    </tr>\n",
              "    <tr>\n",
              "      <th>2</th>\n",
              "      <td>[0.0, -0.5, -0.6, 1.1, 2.2, 1.3, 1.3, -0.4, 0....</td>\n",
              "      <td>[-0.8, -3.1, -0.8, -0.4, -1.2, 2.1, 3.1]</td>\n",
              "    </tr>\n",
              "    <tr>\n",
              "      <th>3</th>\n",
              "      <td>[-0.5, -0.6, 1.1, 2.2, 1.3, 1.3, -0.4, 0.4, -0...</td>\n",
              "      <td>[-3.1, -0.8, -0.4, -1.2, 2.1, 3.1, 3.3]</td>\n",
              "    </tr>\n",
              "    <tr>\n",
              "      <th>4</th>\n",
              "      <td>[-0.6, 1.1, 2.2, 1.3, 1.3, -0.4, 0.4, -0.7, 2....</td>\n",
              "      <td>[-0.8, -0.4, -1.2, 2.1, 3.1, 3.3, 3.4]</td>\n",
              "    </tr>\n",
              "  </tbody>\n",
              "</table>\n",
              "</div>\n",
              "    <div class=\"colab-df-buttons\">\n",
              "\n",
              "  <div class=\"colab-df-container\">\n",
              "    <button class=\"colab-df-convert\" onclick=\"convertToInteractive('df-31d29689-0e98-4a0d-a1e6-29830e2ea493')\"\n",
              "            title=\"Convert this dataframe to an interactive table.\"\n",
              "            style=\"display:none;\">\n",
              "\n",
              "  <svg xmlns=\"http://www.w3.org/2000/svg\" height=\"24px\" viewBox=\"0 -960 960 960\">\n",
              "    <path d=\"M120-120v-720h720v720H120Zm60-500h600v-160H180v160Zm220 220h160v-160H400v160Zm0 220h160v-160H400v160ZM180-400h160v-160H180v160Zm440 0h160v-160H620v160ZM180-180h160v-160H180v160Zm440 0h160v-160H620v160Z\"/>\n",
              "  </svg>\n",
              "    </button>\n",
              "\n",
              "  <style>\n",
              "    .colab-df-container {\n",
              "      display:flex;\n",
              "      gap: 12px;\n",
              "    }\n",
              "\n",
              "    .colab-df-convert {\n",
              "      background-color: #E8F0FE;\n",
              "      border: none;\n",
              "      border-radius: 50%;\n",
              "      cursor: pointer;\n",
              "      display: none;\n",
              "      fill: #1967D2;\n",
              "      height: 32px;\n",
              "      padding: 0 0 0 0;\n",
              "      width: 32px;\n",
              "    }\n",
              "\n",
              "    .colab-df-convert:hover {\n",
              "      background-color: #E2EBFA;\n",
              "      box-shadow: 0px 1px 2px rgba(60, 64, 67, 0.3), 0px 1px 3px 1px rgba(60, 64, 67, 0.15);\n",
              "      fill: #174EA6;\n",
              "    }\n",
              "\n",
              "    .colab-df-buttons div {\n",
              "      margin-bottom: 4px;\n",
              "    }\n",
              "\n",
              "    [theme=dark] .colab-df-convert {\n",
              "      background-color: #3B4455;\n",
              "      fill: #D2E3FC;\n",
              "    }\n",
              "\n",
              "    [theme=dark] .colab-df-convert:hover {\n",
              "      background-color: #434B5C;\n",
              "      box-shadow: 0px 1px 3px 1px rgba(0, 0, 0, 0.15);\n",
              "      filter: drop-shadow(0px 1px 2px rgba(0, 0, 0, 0.3));\n",
              "      fill: #FFFFFF;\n",
              "    }\n",
              "  </style>\n",
              "\n",
              "    <script>\n",
              "      const buttonEl =\n",
              "        document.querySelector('#df-31d29689-0e98-4a0d-a1e6-29830e2ea493 button.colab-df-convert');\n",
              "      buttonEl.style.display =\n",
              "        google.colab.kernel.accessAllowed ? 'block' : 'none';\n",
              "\n",
              "      async function convertToInteractive(key) {\n",
              "        const element = document.querySelector('#df-31d29689-0e98-4a0d-a1e6-29830e2ea493');\n",
              "        const dataTable =\n",
              "          await google.colab.kernel.invokeFunction('convertToInteractive',\n",
              "                                                    [key], {});\n",
              "        if (!dataTable) return;\n",
              "\n",
              "        const docLinkHtml = 'Like what you see? Visit the ' +\n",
              "          '<a target=\"_blank\" href=https://colab.research.google.com/notebooks/data_table.ipynb>data table notebook</a>'\n",
              "          + ' to learn more about interactive tables.';\n",
              "        element.innerHTML = '';\n",
              "        dataTable['output_type'] = 'display_data';\n",
              "        await google.colab.output.renderOutput(dataTable, element);\n",
              "        const docLink = document.createElement('div');\n",
              "        docLink.innerHTML = docLinkHtml;\n",
              "        element.appendChild(docLink);\n",
              "      }\n",
              "    </script>\n",
              "  </div>\n",
              "\n",
              "\n",
              "<div id=\"df-39568b1f-3888-4376-9f1c-5bddf698b24e\">\n",
              "  <button class=\"colab-df-quickchart\" onclick=\"quickchart('df-39568b1f-3888-4376-9f1c-5bddf698b24e')\"\n",
              "            title=\"Suggest charts\"\n",
              "            style=\"display:none;\">\n",
              "\n",
              "<svg xmlns=\"http://www.w3.org/2000/svg\" height=\"24px\"viewBox=\"0 0 24 24\"\n",
              "     width=\"24px\">\n",
              "    <g>\n",
              "        <path d=\"M19 3H5c-1.1 0-2 .9-2 2v14c0 1.1.9 2 2 2h14c1.1 0 2-.9 2-2V5c0-1.1-.9-2-2-2zM9 17H7v-7h2v7zm4 0h-2V7h2v10zm4 0h-2v-4h2v4z\"/>\n",
              "    </g>\n",
              "</svg>\n",
              "  </button>\n",
              "\n",
              "<style>\n",
              "  .colab-df-quickchart {\n",
              "      --bg-color: #E8F0FE;\n",
              "      --fill-color: #1967D2;\n",
              "      --hover-bg-color: #E2EBFA;\n",
              "      --hover-fill-color: #174EA6;\n",
              "      --disabled-fill-color: #AAA;\n",
              "      --disabled-bg-color: #DDD;\n",
              "  }\n",
              "\n",
              "  [theme=dark] .colab-df-quickchart {\n",
              "      --bg-color: #3B4455;\n",
              "      --fill-color: #D2E3FC;\n",
              "      --hover-bg-color: #434B5C;\n",
              "      --hover-fill-color: #FFFFFF;\n",
              "      --disabled-bg-color: #3B4455;\n",
              "      --disabled-fill-color: #666;\n",
              "  }\n",
              "\n",
              "  .colab-df-quickchart {\n",
              "    background-color: var(--bg-color);\n",
              "    border: none;\n",
              "    border-radius: 50%;\n",
              "    cursor: pointer;\n",
              "    display: none;\n",
              "    fill: var(--fill-color);\n",
              "    height: 32px;\n",
              "    padding: 0;\n",
              "    width: 32px;\n",
              "  }\n",
              "\n",
              "  .colab-df-quickchart:hover {\n",
              "    background-color: var(--hover-bg-color);\n",
              "    box-shadow: 0 1px 2px rgba(60, 64, 67, 0.3), 0 1px 3px 1px rgba(60, 64, 67, 0.15);\n",
              "    fill: var(--button-hover-fill-color);\n",
              "  }\n",
              "\n",
              "  .colab-df-quickchart-complete:disabled,\n",
              "  .colab-df-quickchart-complete:disabled:hover {\n",
              "    background-color: var(--disabled-bg-color);\n",
              "    fill: var(--disabled-fill-color);\n",
              "    box-shadow: none;\n",
              "  }\n",
              "\n",
              "  .colab-df-spinner {\n",
              "    border: 2px solid var(--fill-color);\n",
              "    border-color: transparent;\n",
              "    border-bottom-color: var(--fill-color);\n",
              "    animation:\n",
              "      spin 1s steps(1) infinite;\n",
              "  }\n",
              "\n",
              "  @keyframes spin {\n",
              "    0% {\n",
              "      border-color: transparent;\n",
              "      border-bottom-color: var(--fill-color);\n",
              "      border-left-color: var(--fill-color);\n",
              "    }\n",
              "    20% {\n",
              "      border-color: transparent;\n",
              "      border-left-color: var(--fill-color);\n",
              "      border-top-color: var(--fill-color);\n",
              "    }\n",
              "    30% {\n",
              "      border-color: transparent;\n",
              "      border-left-color: var(--fill-color);\n",
              "      border-top-color: var(--fill-color);\n",
              "      border-right-color: var(--fill-color);\n",
              "    }\n",
              "    40% {\n",
              "      border-color: transparent;\n",
              "      border-right-color: var(--fill-color);\n",
              "      border-top-color: var(--fill-color);\n",
              "    }\n",
              "    60% {\n",
              "      border-color: transparent;\n",
              "      border-right-color: var(--fill-color);\n",
              "    }\n",
              "    80% {\n",
              "      border-color: transparent;\n",
              "      border-right-color: var(--fill-color);\n",
              "      border-bottom-color: var(--fill-color);\n",
              "    }\n",
              "    90% {\n",
              "      border-color: transparent;\n",
              "      border-bottom-color: var(--fill-color);\n",
              "    }\n",
              "  }\n",
              "</style>\n",
              "\n",
              "  <script>\n",
              "    async function quickchart(key) {\n",
              "      const quickchartButtonEl =\n",
              "        document.querySelector('#' + key + ' button');\n",
              "      quickchartButtonEl.disabled = true;  // To prevent multiple clicks.\n",
              "      quickchartButtonEl.classList.add('colab-df-spinner');\n",
              "      try {\n",
              "        const charts = await google.colab.kernel.invokeFunction(\n",
              "            'suggestCharts', [key], {});\n",
              "      } catch (error) {\n",
              "        console.error('Error during call to suggestCharts:', error);\n",
              "      }\n",
              "      quickchartButtonEl.classList.remove('colab-df-spinner');\n",
              "      quickchartButtonEl.classList.add('colab-df-quickchart-complete');\n",
              "    }\n",
              "    (() => {\n",
              "      let quickchartButtonEl =\n",
              "        document.querySelector('#df-39568b1f-3888-4376-9f1c-5bddf698b24e button');\n",
              "      quickchartButtonEl.style.display =\n",
              "        google.colab.kernel.accessAllowed ? 'block' : 'none';\n",
              "    })();\n",
              "  </script>\n",
              "</div>\n",
              "    </div>\n",
              "  </div>\n"
            ]
          },
          "metadata": {},
          "execution_count": 39
        }
      ]
    },
    {
      "cell_type": "code",
      "source": [
        "tr_data.shape"
      ],
      "metadata": {
        "colab": {
          "base_uri": "https://localhost:8080/"
        },
        "id": "RK9838pnvy63",
        "outputId": "e4c31059-13ea-4ce7-d244-3b55111c9ba5"
      },
      "execution_count": 108,
      "outputs": [
        {
          "output_type": "execute_result",
          "data": {
            "text/plain": [
              "(49756, 2)"
            ]
          },
          "metadata": {},
          "execution_count": 108
        }
      ]
    },
    {
      "cell_type": "code",
      "source": [
        "scaler = MinMaxScaler(feature_range=(0, 1))\n",
        "tr_inputs_normalized = scaler.fit_transform(list(tr_data['Input']))\n",
        "tr_target_normalized = scaler.fit_transform(list(tr_data['target']))"
      ],
      "metadata": {
        "id": "F_P0hbTjLWyd"
      },
      "execution_count": 40,
      "outputs": []
    },
    {
      "cell_type": "code",
      "source": [
        "val_inputs_normalized = scaler.fit_transform(list(val_data['Input']))\n",
        "val_target_normalized = scaler.fit_transform(list(val_data['target']))"
      ],
      "metadata": {
        "id": "Le2cV2g0N5BP"
      },
      "execution_count": 41,
      "outputs": []
    },
    {
      "cell_type": "code",
      "source": [
        "# convert the data to pytorch tensors\n",
        "tr_inputs_tensor = torch.from_numpy(np.array(tr_inputs_normalized)).unsqueeze(-1).float()\n",
        "tr_target_tensor = torch.from_numpy(np.array(tr_target_normalized)).unsqueeze(-1).float()\n",
        "val_inputs_tensor = torch.from_numpy(np.array(val_inputs_normalized)).unsqueeze(-1).float()\n",
        "val_target_tensor = torch.from_numpy(np.array(val_target_normalized)).unsqueeze(-1).float()"
      ],
      "metadata": {
        "id": "b2bu6SGLOIVd"
      },
      "execution_count": 42,
      "outputs": []
    },
    {
      "cell_type": "code",
      "source": [
        "val_inputs_tensor.shape"
      ],
      "metadata": {
        "colab": {
          "base_uri": "https://localhost:8080/"
        },
        "id": "HVPPy8U-MCTD",
        "outputId": "9c69136e-f1e5-4fad-96e5-b16b499d3c72"
      },
      "execution_count": 43,
      "outputs": [
        {
          "output_type": "execute_result",
          "data": {
            "text/plain": [
              "torch.Size([14216, 90, 1])"
            ]
          },
          "metadata": {},
          "execution_count": 43
        }
      ]
    },
    {
      "cell_type": "code",
      "source": [
        "val_target_tensor.shape"
      ],
      "metadata": {
        "colab": {
          "base_uri": "https://localhost:8080/"
        },
        "id": "oXwgxFxmMGCl",
        "outputId": "6b060d8e-539f-4fdf-bd4a-6685e2f10aaf"
      },
      "execution_count": 44,
      "outputs": [
        {
          "output_type": "execute_result",
          "data": {
            "text/plain": [
              "torch.Size([14216, 7, 1])"
            ]
          },
          "metadata": {},
          "execution_count": 44
        }
      ]
    },
    {
      "cell_type": "code",
      "source": [
        "# preparing the dataloader\n",
        "t_dataset = TensorDataset(tr_inputs_tensor, tr_target_tensor)\n",
        "v_dataset = TensorDataset(val_inputs_tensor, val_target_tensor)\n",
        "train_loader = DataLoader(t_dataset, batch_size=128, shuffle=True)\n",
        "valid_loader = DataLoader(v_dataset, batch_size=128)"
      ],
      "metadata": {
        "id": "-e5Aug6vQIrP"
      },
      "execution_count": 45,
      "outputs": []
    },
    {
      "cell_type": "markdown",
      "source": [
        "**Defining LSTM Model**"
      ],
      "metadata": {
        "id": "0EbIOD48PKGZ"
      }
    },
    {
      "cell_type": "code",
      "source": [
        "# Define the LSTM model\n",
        "class LSTM(nn.Module):\n",
        "    def __init__(self, input_size, hidden_size, output_size, num_layers):\n",
        "        super(LSTM, self).__init__()\n",
        "        self.hidden_size = hidden_size\n",
        "        self.num_layers = num_layers\n",
        "        self.lstm = nn.LSTM(input_size, hidden_size, num_layers, batch_first=True)\n",
        "        self.fc = nn.Linear(hidden_size , output_size) # fully connected take the 90 from 64 batch and transform them to 7 values\n",
        "\n",
        "    def forward(self, x):\n",
        "        h0 = torch.zeros(self.num_layers, x.size(0), self.hidden_size).to(x.device)\n",
        "        c0 = torch.zeros(self.num_layers, x.size(0), self.hidden_size).to(x.device)\n",
        "        out, _ = self.lstm(x, (h0, c0))\n",
        "        out = self.fc(out[:, -1, :])\n",
        "        return out"
      ],
      "metadata": {
        "id": "44_c-dLrO79r"
      },
      "execution_count": 46,
      "outputs": []
    },
    {
      "cell_type": "code",
      "source": [
        "# Instantiate the LSTM model\n",
        "input_size = 1\n",
        "hidden_size = 64\n",
        "output_size = 7\n",
        "num_layers = 2\n",
        "model = LSTM(input_size, hidden_size, output_size, num_layers)"
      ],
      "metadata": {
        "id": "iTKXhGxnPPR5"
      },
      "execution_count": 47,
      "outputs": []
    },
    {
      "cell_type": "code",
      "source": [
        "# Define the loss function and optimizer\n",
        "criterion = nn.MSELoss()\n",
        "optimizer = optim.Adam(model.parameters(), lr=0.0001)"
      ],
      "metadata": {
        "id": "IgD3V1N6PS2S"
      },
      "execution_count": 48,
      "outputs": []
    },
    {
      "cell_type": "code",
      "source": [
        "for i, batch in enumerate(train_loader):\n",
        "  if i == 0:\n",
        "    a,b = batch\n",
        "    print(a.shape, b.shape)"
      ],
      "metadata": {
        "colab": {
          "base_uri": "https://localhost:8080/"
        },
        "id": "Ze3JcaP3TG5B",
        "outputId": "0ae89ce0-03d8-44ad-bee7-47fed40f310a"
      },
      "execution_count": 49,
      "outputs": [
        {
          "output_type": "stream",
          "name": "stdout",
          "text": [
            "torch.Size([128, 90, 1]) torch.Size([128, 7, 1])\n"
          ]
        }
      ]
    },
    {
      "cell_type": "code",
      "source": [
        "#sweep_config = {\n",
        "#    \"method\": \"random\",\n",
        "#    \"parameters\": {\n",
        "#        \"learning_rate\": {\"values\": [0.001, 0.01, 0.1]},\n",
        "#        \"hidden_size\": {\"values\": [32, 64, 128]},\n",
        "#        \"num_layers\": {\"values\": [1, 2, 3]},\n",
        "#        \"batch_size\": {\"values\": [16, 32, 64]}\n",
        "#    }\n",
        "#}"
      ],
      "metadata": {
        "id": "AbjbAGKTv-YN"
      },
      "execution_count": 75,
      "outputs": []
    },
    {
      "cell_type": "code",
      "source": [
        "# Run the hyperparameter sweep\n",
        "#sweep_id = wandb.sweep(sweep_config, project=\"experiment3\", entity=\"mohamedabokahf70\")"
      ],
      "metadata": {
        "id": "NvDP8P7KYoxA"
      },
      "execution_count": 76,
      "outputs": []
    },
    {
      "cell_type": "code",
      "source": [
        "def train_model():\n",
        "    # Early Stopping\n",
        "    best_val_loss = float('inf')\n",
        "    patience_counter = 0\n",
        "    patience_limit = 10\n",
        "\n",
        "    # Train the model\n",
        "    num_epochs = 100\n",
        "    for epoch in range(num_epochs):\n",
        "        for tra_batch in train_loader:\n",
        "            X_train, y_train = tra_batch\n",
        "            optimizer.zero_grad()\n",
        "            output = model(X_train)\n",
        "            output = output.view(1, -1)\n",
        "            loss = criterion(output, y_train.view(1, -1))\n",
        "            loss.backward()\n",
        "            optimizer.step()\n",
        "\n",
        "\n",
        "\n",
        "        # Validate the model\n",
        "        model.eval()\n",
        "        val_losses = []\n",
        "        with torch.no_grad():\n",
        "            for val_batch in valid_loader:\n",
        "                X_val, y_val = val_batch\n",
        "                val_output = model(X_val)\n",
        "                val_loss = criterion(val_output, y_val.squeeze())\n",
        "                val_losses.append(val_loss.item())\n",
        "\n",
        "        avg_val_loss = sum(val_losses) / len(val_losses)\n",
        "\n",
        "        # Log training and validation loss with W&B (outside the validation loop)\n",
        "        #wandb.log({\"Training Loss\": loss.item(), \"Validation Loss\": sum(val_losses) / len(val_losses)})\n",
        "        print(f'Epoch [{epoch}/{num_epochs}], Training Loss: {loss.item():.4f}, Validation Loss: {avg_val_loss:.4f}')\n",
        "\n",
        "        # Early stopping\n",
        "        if avg_val_loss < best_val_loss:\n",
        "            best_val_loss = avg_val_loss\n",
        "            patience_counter = 0  # Reset counter when new best loss is found\n",
        "        else:\n",
        "            patience_counter += 1\n",
        "            if patience_counter >= patience_limit:\n",
        "                print(\"Early stopping due to validation loss not improving\")\n",
        "                break\n"
      ],
      "metadata": {
        "id": "0a7vge1ZpAzA"
      },
      "execution_count": 50,
      "outputs": []
    },
    {
      "cell_type": "code",
      "source": [
        "train_model()"
      ],
      "metadata": {
        "colab": {
          "base_uri": "https://localhost:8080/"
        },
        "id": "hx7hiPUZpUTM",
        "outputId": "9561015a-5028-4b86-fe29-6e7ed592dbe0"
      },
      "execution_count": 51,
      "outputs": [
        {
          "output_type": "stream",
          "name": "stdout",
          "text": [
            "Epoch [0/100], Training Loss: 0.0094, Validation Loss: 0.0106\n",
            "Epoch [1/100], Training Loss: 0.0053, Validation Loss: 0.0072\n",
            "Epoch [2/100], Training Loss: 0.0055, Validation Loss: 0.0069\n",
            "Epoch [3/100], Training Loss: 0.0056, Validation Loss: 0.0068\n",
            "Epoch [4/100], Training Loss: 0.0057, Validation Loss: 0.0067\n",
            "Epoch [5/100], Training Loss: 0.0061, Validation Loss: 0.0066\n",
            "Epoch [6/100], Training Loss: 0.0042, Validation Loss: 0.0066\n",
            "Epoch [7/100], Training Loss: 0.0043, Validation Loss: 0.0065\n",
            "Epoch [8/100], Training Loss: 0.0046, Validation Loss: 0.0064\n",
            "Epoch [9/100], Training Loss: 0.0045, Validation Loss: 0.0062\n",
            "Epoch [10/100], Training Loss: 0.0046, Validation Loss: 0.0061\n",
            "Epoch [11/100], Training Loss: 0.0035, Validation Loss: 0.0058\n",
            "Epoch [12/100], Training Loss: 0.0041, Validation Loss: 0.0057\n",
            "Epoch [13/100], Training Loss: 0.0041, Validation Loss: 0.0057\n",
            "Epoch [14/100], Training Loss: 0.0041, Validation Loss: 0.0056\n",
            "Epoch [15/100], Training Loss: 0.0039, Validation Loss: 0.0055\n",
            "Epoch [16/100], Training Loss: 0.0036, Validation Loss: 0.0056\n",
            "Epoch [17/100], Training Loss: 0.0045, Validation Loss: 0.0054\n",
            "Epoch [18/100], Training Loss: 0.0048, Validation Loss: 0.0053\n",
            "Epoch [19/100], Training Loss: 0.0043, Validation Loss: 0.0053\n",
            "Epoch [20/100], Training Loss: 0.0038, Validation Loss: 0.0052\n",
            "Epoch [21/100], Training Loss: 0.0046, Validation Loss: 0.0053\n",
            "Epoch [22/100], Training Loss: 0.0034, Validation Loss: 0.0052\n",
            "Epoch [23/100], Training Loss: 0.0041, Validation Loss: 0.0051\n",
            "Epoch [24/100], Training Loss: 0.0044, Validation Loss: 0.0051\n",
            "Epoch [25/100], Training Loss: 0.0042, Validation Loss: 0.0051\n",
            "Epoch [26/100], Training Loss: 0.0035, Validation Loss: 0.0051\n",
            "Epoch [27/100], Training Loss: 0.0038, Validation Loss: 0.0050\n",
            "Epoch [28/100], Training Loss: 0.0033, Validation Loss: 0.0053\n",
            "Epoch [29/100], Training Loss: 0.0031, Validation Loss: 0.0050\n",
            "Epoch [30/100], Training Loss: 0.0039, Validation Loss: 0.0050\n",
            "Epoch [31/100], Training Loss: 0.0033, Validation Loss: 0.0049\n",
            "Epoch [32/100], Training Loss: 0.0041, Validation Loss: 0.0049\n",
            "Epoch [33/100], Training Loss: 0.0033, Validation Loss: 0.0049\n",
            "Epoch [34/100], Training Loss: 0.0036, Validation Loss: 0.0049\n",
            "Epoch [35/100], Training Loss: 0.0036, Validation Loss: 0.0049\n",
            "Epoch [36/100], Training Loss: 0.0042, Validation Loss: 0.0049\n",
            "Epoch [37/100], Training Loss: 0.0041, Validation Loss: 0.0049\n",
            "Epoch [38/100], Training Loss: 0.0039, Validation Loss: 0.0049\n",
            "Epoch [39/100], Training Loss: 0.0032, Validation Loss: 0.0049\n",
            "Epoch [40/100], Training Loss: 0.0039, Validation Loss: 0.0049\n",
            "Epoch [41/100], Training Loss: 0.0038, Validation Loss: 0.0048\n",
            "Epoch [42/100], Training Loss: 0.0029, Validation Loss: 0.0048\n",
            "Epoch [43/100], Training Loss: 0.0028, Validation Loss: 0.0048\n",
            "Epoch [44/100], Training Loss: 0.0043, Validation Loss: 0.0048\n",
            "Epoch [45/100], Training Loss: 0.0033, Validation Loss: 0.0049\n",
            "Epoch [46/100], Training Loss: 0.0033, Validation Loss: 0.0048\n",
            "Epoch [47/100], Training Loss: 0.0043, Validation Loss: 0.0048\n",
            "Epoch [48/100], Training Loss: 0.0035, Validation Loss: 0.0048\n",
            "Epoch [49/100], Training Loss: 0.0035, Validation Loss: 0.0048\n",
            "Epoch [50/100], Training Loss: 0.0033, Validation Loss: 0.0048\n",
            "Epoch [51/100], Training Loss: 0.0036, Validation Loss: 0.0048\n",
            "Epoch [52/100], Training Loss: 0.0042, Validation Loss: 0.0048\n",
            "Epoch [53/100], Training Loss: 0.0032, Validation Loss: 0.0048\n",
            "Epoch [54/100], Training Loss: 0.0028, Validation Loss: 0.0049\n",
            "Epoch [55/100], Training Loss: 0.0038, Validation Loss: 0.0048\n",
            "Epoch [56/100], Training Loss: 0.0039, Validation Loss: 0.0048\n",
            "Epoch [57/100], Training Loss: 0.0037, Validation Loss: 0.0047\n",
            "Epoch [58/100], Training Loss: 0.0044, Validation Loss: 0.0048\n",
            "Epoch [59/100], Training Loss: 0.0035, Validation Loss: 0.0048\n",
            "Epoch [60/100], Training Loss: 0.0040, Validation Loss: 0.0048\n",
            "Epoch [61/100], Training Loss: 0.0040, Validation Loss: 0.0048\n",
            "Epoch [62/100], Training Loss: 0.0035, Validation Loss: 0.0048\n",
            "Epoch [63/100], Training Loss: 0.0042, Validation Loss: 0.0048\n",
            "Epoch [64/100], Training Loss: 0.0043, Validation Loss: 0.0048\n",
            "Epoch [65/100], Training Loss: 0.0035, Validation Loss: 0.0048\n",
            "Epoch [66/100], Training Loss: 0.0042, Validation Loss: 0.0047\n",
            "Epoch [67/100], Training Loss: 0.0034, Validation Loss: 0.0048\n",
            "Epoch [68/100], Training Loss: 0.0037, Validation Loss: 0.0048\n",
            "Epoch [69/100], Training Loss: 0.0039, Validation Loss: 0.0048\n",
            "Epoch [70/100], Training Loss: 0.0032, Validation Loss: 0.0048\n",
            "Epoch [71/100], Training Loss: 0.0031, Validation Loss: 0.0048\n",
            "Epoch [72/100], Training Loss: 0.0038, Validation Loss: 0.0048\n",
            "Epoch [73/100], Training Loss: 0.0029, Validation Loss: 0.0048\n",
            "Epoch [74/100], Training Loss: 0.0036, Validation Loss: 0.0048\n",
            "Epoch [75/100], Training Loss: 0.0035, Validation Loss: 0.0048\n",
            "Epoch [76/100], Training Loss: 0.0033, Validation Loss: 0.0048\n",
            "Early stopping due to validation loss not improving\n"
          ]
        }
      ]
    },
    {
      "cell_type": "code",
      "source": [
        "#wandb.agent(sweep_id, function=train_model)"
      ],
      "metadata": {
        "id": "8IKb3HbXqTQa"
      },
      "execution_count": 48,
      "outputs": []
    },
    {
      "cell_type": "code",
      "source": [
        "print(model)"
      ],
      "metadata": {
        "colab": {
          "base_uri": "https://localhost:8080/"
        },
        "id": "V2o85AYx_4UX",
        "outputId": "905168e8-4634-4840-ecd7-807a41c643d7"
      },
      "execution_count": 31,
      "outputs": [
        {
          "output_type": "stream",
          "name": "stdout",
          "text": [
            "LSTM(\n",
            "  (lstm): LSTM(1, 64, num_layers=2, batch_first=True)\n",
            "  (fc): Linear(in_features=64, out_features=7, bias=True)\n",
            ")\n"
          ]
        }
      ]
    },
    {
      "cell_type": "markdown",
      "source": [
        "**Reading the evaluation data**"
      ],
      "metadata": {
        "id": "efhquvz7owIQ"
      }
    },
    {
      "cell_type": "code",
      "source": [
        "test_x = pd.read_csv(\"/content/test_x.csv\", header=None)"
      ],
      "metadata": {
        "id": "F1o-LLcsoqmB"
      },
      "execution_count": 52,
      "outputs": []
    },
    {
      "cell_type": "code",
      "source": [
        "test_x.shape"
      ],
      "metadata": {
        "colab": {
          "base_uri": "https://localhost:8080/"
        },
        "id": "nOVE4zNEo-IW",
        "outputId": "ea90876b-0c11-4ce3-f85c-caa248943a0e"
      },
      "execution_count": 53,
      "outputs": [
        {
          "output_type": "execute_result",
          "data": {
            "text/plain": [
              "(106, 90)"
            ]
          },
          "metadata": {},
          "execution_count": 53
        }
      ]
    },
    {
      "cell_type": "code",
      "source": [
        "# data preparation\n",
        "tst_x = []\n",
        "for i in tqdm(range(len(test_x))):\n",
        "  tst_x.append(list(test_x.iloc[i]))\n"
      ],
      "metadata": {
        "colab": {
          "base_uri": "https://localhost:8080/"
        },
        "id": "4mQY66a2pAvz",
        "outputId": "b70e88ff-1caf-4edd-b4f4-b8712298f81b"
      },
      "execution_count": 59,
      "outputs": [
        {
          "output_type": "stream",
          "name": "stderr",
          "text": [
            "100%|██████████| 106/106 [00:00<00:00, 11297.07it/s]\n"
          ]
        }
      ]
    },
    {
      "cell_type": "code",
      "source": [
        "# normalization\n",
        "test_x_normalized = scaler.fit_transform(tst_x)"
      ],
      "metadata": {
        "id": "HdF_OZtIpoz3"
      },
      "execution_count": 101,
      "outputs": []
    },
    {
      "cell_type": "code",
      "source": [
        "# convert to tensors\n",
        "test_x_tensors = torch.from_numpy(np.array(test_x_normalized)).unsqueeze(-1).float()"
      ],
      "metadata": {
        "id": "M4xTl5hBqasD"
      },
      "execution_count": 102,
      "outputs": []
    },
    {
      "cell_type": "code",
      "source": [
        "test_x_tensors.shape"
      ],
      "metadata": {
        "colab": {
          "base_uri": "https://localhost:8080/"
        },
        "id": "DLRaYY6Bqqf0",
        "outputId": "45735756-26c5-4d7e-a873-3ba9c09fb9f1"
      },
      "execution_count": 103,
      "outputs": [
        {
          "output_type": "execute_result",
          "data": {
            "text/plain": [
              "torch.Size([106, 90, 1])"
            ]
          },
          "metadata": {},
          "execution_count": 103
        }
      ]
    },
    {
      "cell_type": "code",
      "source": [
        "pred_y = model(test_x_tensors)"
      ],
      "metadata": {
        "id": "_EPhS7K7queG"
      },
      "execution_count": 205,
      "outputs": []
    },
    {
      "cell_type": "code",
      "source": [
        "# transform the pred_y to array\n",
        "pred_y_array = pred_y.detach().numpy()\n",
        "type(pred_y_array)"
      ],
      "metadata": {
        "colab": {
          "base_uri": "https://localhost:8080/"
        },
        "id": "qZ9B4F0SrO1N",
        "outputId": "5d1fe970-fed5-4074-f8d7-4c3382266516"
      },
      "execution_count": 206,
      "outputs": [
        {
          "output_type": "execute_result",
          "data": {
            "text/plain": [
              "numpy.ndarray"
            ]
          },
          "metadata": {},
          "execution_count": 206
        }
      ]
    },
    {
      "cell_type": "code",
      "source": [
        "len(pred_y_array)"
      ],
      "metadata": {
        "colab": {
          "base_uri": "https://localhost:8080/"
        },
        "id": "jF8eGi4NBtAv",
        "outputId": "734c794a-d3b4-42c5-8689-68c2d140aced"
      },
      "execution_count": 207,
      "outputs": [
        {
          "output_type": "execute_result",
          "data": {
            "text/plain": [
              "106"
            ]
          },
          "metadata": {},
          "execution_count": 207
        }
      ]
    },
    {
      "cell_type": "code",
      "source": [
        "# i have to pad to the length 90 and then get only the first 7 values after denormalization\n",
        "pred_y_array_padded = np.pad(pred_y_array,(0,83), 'constant', constant_values=(0, 0))"
      ],
      "metadata": {
        "id": "mYxJOhXD0kxu"
      },
      "execution_count": 208,
      "outputs": []
    },
    {
      "cell_type": "code",
      "source": [
        "# we should denormalize the predictions\n",
        "pred_normalized = scaler.inverse_transform(pred_y_array_padded)"
      ],
      "metadata": {
        "id": "hLHNmqe7t_Q-"
      },
      "execution_count": 210,
      "outputs": []
    },
    {
      "cell_type": "code",
      "source": [
        "pred_y_array_padded[106:]"
      ],
      "metadata": {
        "colab": {
          "base_uri": "https://localhost:8080/"
        },
        "id": "IMEeRImADE2F",
        "outputId": "c08d79c0-fdf8-4087-c40c-9acd7555a12c"
      },
      "execution_count": 215,
      "outputs": [
        {
          "output_type": "execute_result",
          "data": {
            "text/plain": [
              "array([[0., 0., 0., ..., 0., 0., 0.],\n",
              "       [0., 0., 0., ..., 0., 0., 0.],\n",
              "       [0., 0., 0., ..., 0., 0., 0.],\n",
              "       ...,\n",
              "       [0., 0., 0., ..., 0., 0., 0.],\n",
              "       [0., 0., 0., ..., 0., 0., 0.],\n",
              "       [0., 0., 0., ..., 0., 0., 0.]], dtype=float32)"
            ]
          },
          "metadata": {},
          "execution_count": 215
        }
      ]
    },
    {
      "cell_type": "code",
      "source": [
        "pred_normalized[106:]"
      ],
      "metadata": {
        "colab": {
          "base_uri": "https://localhost:8080/"
        },
        "id": "ChEGefCdC4LV",
        "outputId": "a174c43f-3c75-4b87-a7fd-6e556a4d7496"
      },
      "execution_count": 213,
      "outputs": [
        {
          "output_type": "execute_result",
          "data": {
            "text/plain": [
              "array([[-15.799999, -13.2     , -11.8     , ..., -11.4     , -17.9     ,\n",
              "        -16.199999],\n",
              "       [-15.799999, -13.2     , -11.8     , ..., -11.4     , -17.9     ,\n",
              "        -16.199999],\n",
              "       [-15.799999, -13.2     , -11.8     , ..., -11.4     , -17.9     ,\n",
              "        -16.199999],\n",
              "       ...,\n",
              "       [-15.799999, -13.2     , -11.8     , ..., -11.4     , -17.9     ,\n",
              "        -16.199999],\n",
              "       [-15.799999, -13.2     , -11.8     , ..., -11.4     , -17.9     ,\n",
              "        -16.199999],\n",
              "       [-15.799999, -13.2     , -11.8     , ..., -11.4     , -17.9     ,\n",
              "        -16.199999]], dtype=float32)"
            ]
          },
          "metadata": {},
          "execution_count": 213
        }
      ]
    },
    {
      "cell_type": "code",
      "source": [
        "pred_normalized = pred_normalized[:106]"
      ],
      "metadata": {
        "id": "1SWi8IopBBJ1"
      },
      "execution_count": 216,
      "outputs": []
    },
    {
      "cell_type": "code",
      "source": [
        "len(pred_normalized)"
      ],
      "metadata": {
        "colab": {
          "base_uri": "https://localhost:8080/"
        },
        "id": "ReciQUL3CdDJ",
        "outputId": "c7554344-7826-41ea-cf2e-81a3fef5a896"
      },
      "execution_count": 217,
      "outputs": [
        {
          "output_type": "execute_result",
          "data": {
            "text/plain": [
              "106"
            ]
          },
          "metadata": {},
          "execution_count": 217
        }
      ]
    },
    {
      "cell_type": "code",
      "source": [
        "pred_normalized = [pred_normalized[i][:7].tolist() for i in range(len(pred_normalized))]"
      ],
      "metadata": {
        "id": "s0Gvs8etB-Q7"
      },
      "execution_count": 227,
      "outputs": []
    },
    {
      "cell_type": "code",
      "source": [
        "pred_df = pd.DataFrame(data=pred_normalized)"
      ],
      "metadata": {
        "id": "7gX_tEsvECb2"
      },
      "execution_count": 232,
      "outputs": []
    },
    {
      "cell_type": "code",
      "source": [
        "pred_df.to_csv('text_y.csv')"
      ],
      "metadata": {
        "id": "XfJAbk9tEapu"
      },
      "execution_count": 234,
      "outputs": []
    },
    {
      "cell_type": "code",
      "source": [
        "pred = pd.read_csv('/content/text_y.csv', index_col=0)"
      ],
      "metadata": {
        "id": "KuDVwKV5TA9T"
      },
      "execution_count": 17,
      "outputs": []
    },
    {
      "cell_type": "code",
      "source": [
        "for i in range(len(pred)):\n",
        "  pred.iloc[i] = round(pred.iloc[i], 1)"
      ],
      "metadata": {
        "id": "RQ5ms960TbZq"
      },
      "execution_count": 18,
      "outputs": []
    },
    {
      "cell_type": "code",
      "source": [
        "pred.to_csv('test_y.csv')"
      ],
      "metadata": {
        "id": "gKw9LMu1UNAJ"
      },
      "execution_count": 21,
      "outputs": []
    },
    {
      "cell_type": "code",
      "source": [
        "pred"
      ],
      "metadata": {
        "colab": {
          "base_uri": "https://localhost:8080/",
          "height": 419
        },
        "id": "vCamwC5-Uqhg",
        "outputId": "2d855573-1fd0-43da-d448-407295d30c6c"
      },
      "execution_count": 20,
      "outputs": [
        {
          "output_type": "execute_result",
          "data": {
            "text/plain": [
              "        0     1     2     3     4     5     6\n",
              "0    11.5  14.1  14.7  15.0  14.7  15.8  14.1\n",
              "1    -0.4   1.8   2.6   3.4   2.2   1.9   1.0\n",
              "2     1.9   3.9   4.6   5.4   4.3   4.2   3.1\n",
              "3     6.0   8.4   9.0   9.5   8.7   9.1   7.6\n",
              "4     4.1   6.5   7.1   7.8   7.0   7.2   6.1\n",
              "..    ...   ...   ...   ...   ...   ...   ...\n",
              "101  14.5  17.0  17.0  17.2  17.0  18.6  16.8\n",
              "102   3.7   5.2   5.5   5.9   4.8   4.4   3.3\n",
              "103   6.1   8.4   8.8   9.3   8.4   8.6   7.3\n",
              "104  18.9  20.1  19.9  19.5  19.2  20.7  18.6\n",
              "105   7.7   9.5   9.8  10.0   9.2   9.4   7.8\n",
              "\n",
              "[106 rows x 7 columns]"
            ],
            "text/html": [
              "\n",
              "  <div id=\"df-2956a96f-ffec-4f83-926c-8c4f81bc1885\" class=\"colab-df-container\">\n",
              "    <div>\n",
              "<style scoped>\n",
              "    .dataframe tbody tr th:only-of-type {\n",
              "        vertical-align: middle;\n",
              "    }\n",
              "\n",
              "    .dataframe tbody tr th {\n",
              "        vertical-align: top;\n",
              "    }\n",
              "\n",
              "    .dataframe thead th {\n",
              "        text-align: right;\n",
              "    }\n",
              "</style>\n",
              "<table border=\"1\" class=\"dataframe\">\n",
              "  <thead>\n",
              "    <tr style=\"text-align: right;\">\n",
              "      <th></th>\n",
              "      <th>0</th>\n",
              "      <th>1</th>\n",
              "      <th>2</th>\n",
              "      <th>3</th>\n",
              "      <th>4</th>\n",
              "      <th>5</th>\n",
              "      <th>6</th>\n",
              "    </tr>\n",
              "  </thead>\n",
              "  <tbody>\n",
              "    <tr>\n",
              "      <th>0</th>\n",
              "      <td>11.5</td>\n",
              "      <td>14.1</td>\n",
              "      <td>14.7</td>\n",
              "      <td>15.0</td>\n",
              "      <td>14.7</td>\n",
              "      <td>15.8</td>\n",
              "      <td>14.1</td>\n",
              "    </tr>\n",
              "    <tr>\n",
              "      <th>1</th>\n",
              "      <td>-0.4</td>\n",
              "      <td>1.8</td>\n",
              "      <td>2.6</td>\n",
              "      <td>3.4</td>\n",
              "      <td>2.2</td>\n",
              "      <td>1.9</td>\n",
              "      <td>1.0</td>\n",
              "    </tr>\n",
              "    <tr>\n",
              "      <th>2</th>\n",
              "      <td>1.9</td>\n",
              "      <td>3.9</td>\n",
              "      <td>4.6</td>\n",
              "      <td>5.4</td>\n",
              "      <td>4.3</td>\n",
              "      <td>4.2</td>\n",
              "      <td>3.1</td>\n",
              "    </tr>\n",
              "    <tr>\n",
              "      <th>3</th>\n",
              "      <td>6.0</td>\n",
              "      <td>8.4</td>\n",
              "      <td>9.0</td>\n",
              "      <td>9.5</td>\n",
              "      <td>8.7</td>\n",
              "      <td>9.1</td>\n",
              "      <td>7.6</td>\n",
              "    </tr>\n",
              "    <tr>\n",
              "      <th>4</th>\n",
              "      <td>4.1</td>\n",
              "      <td>6.5</td>\n",
              "      <td>7.1</td>\n",
              "      <td>7.8</td>\n",
              "      <td>7.0</td>\n",
              "      <td>7.2</td>\n",
              "      <td>6.1</td>\n",
              "    </tr>\n",
              "    <tr>\n",
              "      <th>...</th>\n",
              "      <td>...</td>\n",
              "      <td>...</td>\n",
              "      <td>...</td>\n",
              "      <td>...</td>\n",
              "      <td>...</td>\n",
              "      <td>...</td>\n",
              "      <td>...</td>\n",
              "    </tr>\n",
              "    <tr>\n",
              "      <th>101</th>\n",
              "      <td>14.5</td>\n",
              "      <td>17.0</td>\n",
              "      <td>17.0</td>\n",
              "      <td>17.2</td>\n",
              "      <td>17.0</td>\n",
              "      <td>18.6</td>\n",
              "      <td>16.8</td>\n",
              "    </tr>\n",
              "    <tr>\n",
              "      <th>102</th>\n",
              "      <td>3.7</td>\n",
              "      <td>5.2</td>\n",
              "      <td>5.5</td>\n",
              "      <td>5.9</td>\n",
              "      <td>4.8</td>\n",
              "      <td>4.4</td>\n",
              "      <td>3.3</td>\n",
              "    </tr>\n",
              "    <tr>\n",
              "      <th>103</th>\n",
              "      <td>6.1</td>\n",
              "      <td>8.4</td>\n",
              "      <td>8.8</td>\n",
              "      <td>9.3</td>\n",
              "      <td>8.4</td>\n",
              "      <td>8.6</td>\n",
              "      <td>7.3</td>\n",
              "    </tr>\n",
              "    <tr>\n",
              "      <th>104</th>\n",
              "      <td>18.9</td>\n",
              "      <td>20.1</td>\n",
              "      <td>19.9</td>\n",
              "      <td>19.5</td>\n",
              "      <td>19.2</td>\n",
              "      <td>20.7</td>\n",
              "      <td>18.6</td>\n",
              "    </tr>\n",
              "    <tr>\n",
              "      <th>105</th>\n",
              "      <td>7.7</td>\n",
              "      <td>9.5</td>\n",
              "      <td>9.8</td>\n",
              "      <td>10.0</td>\n",
              "      <td>9.2</td>\n",
              "      <td>9.4</td>\n",
              "      <td>7.8</td>\n",
              "    </tr>\n",
              "  </tbody>\n",
              "</table>\n",
              "<p>106 rows × 7 columns</p>\n",
              "</div>\n",
              "    <div class=\"colab-df-buttons\">\n",
              "\n",
              "  <div class=\"colab-df-container\">\n",
              "    <button class=\"colab-df-convert\" onclick=\"convertToInteractive('df-2956a96f-ffec-4f83-926c-8c4f81bc1885')\"\n",
              "            title=\"Convert this dataframe to an interactive table.\"\n",
              "            style=\"display:none;\">\n",
              "\n",
              "  <svg xmlns=\"http://www.w3.org/2000/svg\" height=\"24px\" viewBox=\"0 -960 960 960\">\n",
              "    <path d=\"M120-120v-720h720v720H120Zm60-500h600v-160H180v160Zm220 220h160v-160H400v160Zm0 220h160v-160H400v160ZM180-400h160v-160H180v160Zm440 0h160v-160H620v160ZM180-180h160v-160H180v160Zm440 0h160v-160H620v160Z\"/>\n",
              "  </svg>\n",
              "    </button>\n",
              "\n",
              "  <style>\n",
              "    .colab-df-container {\n",
              "      display:flex;\n",
              "      gap: 12px;\n",
              "    }\n",
              "\n",
              "    .colab-df-convert {\n",
              "      background-color: #E8F0FE;\n",
              "      border: none;\n",
              "      border-radius: 50%;\n",
              "      cursor: pointer;\n",
              "      display: none;\n",
              "      fill: #1967D2;\n",
              "      height: 32px;\n",
              "      padding: 0 0 0 0;\n",
              "      width: 32px;\n",
              "    }\n",
              "\n",
              "    .colab-df-convert:hover {\n",
              "      background-color: #E2EBFA;\n",
              "      box-shadow: 0px 1px 2px rgba(60, 64, 67, 0.3), 0px 1px 3px 1px rgba(60, 64, 67, 0.15);\n",
              "      fill: #174EA6;\n",
              "    }\n",
              "\n",
              "    .colab-df-buttons div {\n",
              "      margin-bottom: 4px;\n",
              "    }\n",
              "\n",
              "    [theme=dark] .colab-df-convert {\n",
              "      background-color: #3B4455;\n",
              "      fill: #D2E3FC;\n",
              "    }\n",
              "\n",
              "    [theme=dark] .colab-df-convert:hover {\n",
              "      background-color: #434B5C;\n",
              "      box-shadow: 0px 1px 3px 1px rgba(0, 0, 0, 0.15);\n",
              "      filter: drop-shadow(0px 1px 2px rgba(0, 0, 0, 0.3));\n",
              "      fill: #FFFFFF;\n",
              "    }\n",
              "  </style>\n",
              "\n",
              "    <script>\n",
              "      const buttonEl =\n",
              "        document.querySelector('#df-2956a96f-ffec-4f83-926c-8c4f81bc1885 button.colab-df-convert');\n",
              "      buttonEl.style.display =\n",
              "        google.colab.kernel.accessAllowed ? 'block' : 'none';\n",
              "\n",
              "      async function convertToInteractive(key) {\n",
              "        const element = document.querySelector('#df-2956a96f-ffec-4f83-926c-8c4f81bc1885');\n",
              "        const dataTable =\n",
              "          await google.colab.kernel.invokeFunction('convertToInteractive',\n",
              "                                                    [key], {});\n",
              "        if (!dataTable) return;\n",
              "\n",
              "        const docLinkHtml = 'Like what you see? Visit the ' +\n",
              "          '<a target=\"_blank\" href=https://colab.research.google.com/notebooks/data_table.ipynb>data table notebook</a>'\n",
              "          + ' to learn more about interactive tables.';\n",
              "        element.innerHTML = '';\n",
              "        dataTable['output_type'] = 'display_data';\n",
              "        await google.colab.output.renderOutput(dataTable, element);\n",
              "        const docLink = document.createElement('div');\n",
              "        docLink.innerHTML = docLinkHtml;\n",
              "        element.appendChild(docLink);\n",
              "      }\n",
              "    </script>\n",
              "  </div>\n",
              "\n",
              "\n",
              "<div id=\"df-6e487dc5-8681-493f-bb73-25e89e73b9be\">\n",
              "  <button class=\"colab-df-quickchart\" onclick=\"quickchart('df-6e487dc5-8681-493f-bb73-25e89e73b9be')\"\n",
              "            title=\"Suggest charts\"\n",
              "            style=\"display:none;\">\n",
              "\n",
              "<svg xmlns=\"http://www.w3.org/2000/svg\" height=\"24px\"viewBox=\"0 0 24 24\"\n",
              "     width=\"24px\">\n",
              "    <g>\n",
              "        <path d=\"M19 3H5c-1.1 0-2 .9-2 2v14c0 1.1.9 2 2 2h14c1.1 0 2-.9 2-2V5c0-1.1-.9-2-2-2zM9 17H7v-7h2v7zm4 0h-2V7h2v10zm4 0h-2v-4h2v4z\"/>\n",
              "    </g>\n",
              "</svg>\n",
              "  </button>\n",
              "\n",
              "<style>\n",
              "  .colab-df-quickchart {\n",
              "      --bg-color: #E8F0FE;\n",
              "      --fill-color: #1967D2;\n",
              "      --hover-bg-color: #E2EBFA;\n",
              "      --hover-fill-color: #174EA6;\n",
              "      --disabled-fill-color: #AAA;\n",
              "      --disabled-bg-color: #DDD;\n",
              "  }\n",
              "\n",
              "  [theme=dark] .colab-df-quickchart {\n",
              "      --bg-color: #3B4455;\n",
              "      --fill-color: #D2E3FC;\n",
              "      --hover-bg-color: #434B5C;\n",
              "      --hover-fill-color: #FFFFFF;\n",
              "      --disabled-bg-color: #3B4455;\n",
              "      --disabled-fill-color: #666;\n",
              "  }\n",
              "\n",
              "  .colab-df-quickchart {\n",
              "    background-color: var(--bg-color);\n",
              "    border: none;\n",
              "    border-radius: 50%;\n",
              "    cursor: pointer;\n",
              "    display: none;\n",
              "    fill: var(--fill-color);\n",
              "    height: 32px;\n",
              "    padding: 0;\n",
              "    width: 32px;\n",
              "  }\n",
              "\n",
              "  .colab-df-quickchart:hover {\n",
              "    background-color: var(--hover-bg-color);\n",
              "    box-shadow: 0 1px 2px rgba(60, 64, 67, 0.3), 0 1px 3px 1px rgba(60, 64, 67, 0.15);\n",
              "    fill: var(--button-hover-fill-color);\n",
              "  }\n",
              "\n",
              "  .colab-df-quickchart-complete:disabled,\n",
              "  .colab-df-quickchart-complete:disabled:hover {\n",
              "    background-color: var(--disabled-bg-color);\n",
              "    fill: var(--disabled-fill-color);\n",
              "    box-shadow: none;\n",
              "  }\n",
              "\n",
              "  .colab-df-spinner {\n",
              "    border: 2px solid var(--fill-color);\n",
              "    border-color: transparent;\n",
              "    border-bottom-color: var(--fill-color);\n",
              "    animation:\n",
              "      spin 1s steps(1) infinite;\n",
              "  }\n",
              "\n",
              "  @keyframes spin {\n",
              "    0% {\n",
              "      border-color: transparent;\n",
              "      border-bottom-color: var(--fill-color);\n",
              "      border-left-color: var(--fill-color);\n",
              "    }\n",
              "    20% {\n",
              "      border-color: transparent;\n",
              "      border-left-color: var(--fill-color);\n",
              "      border-top-color: var(--fill-color);\n",
              "    }\n",
              "    30% {\n",
              "      border-color: transparent;\n",
              "      border-left-color: var(--fill-color);\n",
              "      border-top-color: var(--fill-color);\n",
              "      border-right-color: var(--fill-color);\n",
              "    }\n",
              "    40% {\n",
              "      border-color: transparent;\n",
              "      border-right-color: var(--fill-color);\n",
              "      border-top-color: var(--fill-color);\n",
              "    }\n",
              "    60% {\n",
              "      border-color: transparent;\n",
              "      border-right-color: var(--fill-color);\n",
              "    }\n",
              "    80% {\n",
              "      border-color: transparent;\n",
              "      border-right-color: var(--fill-color);\n",
              "      border-bottom-color: var(--fill-color);\n",
              "    }\n",
              "    90% {\n",
              "      border-color: transparent;\n",
              "      border-bottom-color: var(--fill-color);\n",
              "    }\n",
              "  }\n",
              "</style>\n",
              "\n",
              "  <script>\n",
              "    async function quickchart(key) {\n",
              "      const quickchartButtonEl =\n",
              "        document.querySelector('#' + key + ' button');\n",
              "      quickchartButtonEl.disabled = true;  // To prevent multiple clicks.\n",
              "      quickchartButtonEl.classList.add('colab-df-spinner');\n",
              "      try {\n",
              "        const charts = await google.colab.kernel.invokeFunction(\n",
              "            'suggestCharts', [key], {});\n",
              "      } catch (error) {\n",
              "        console.error('Error during call to suggestCharts:', error);\n",
              "      }\n",
              "      quickchartButtonEl.classList.remove('colab-df-spinner');\n",
              "      quickchartButtonEl.classList.add('colab-df-quickchart-complete');\n",
              "    }\n",
              "    (() => {\n",
              "      let quickchartButtonEl =\n",
              "        document.querySelector('#df-6e487dc5-8681-493f-bb73-25e89e73b9be button');\n",
              "      quickchartButtonEl.style.display =\n",
              "        google.colab.kernel.accessAllowed ? 'block' : 'none';\n",
              "    })();\n",
              "  </script>\n",
              "</div>\n",
              "    </div>\n",
              "  </div>\n"
            ]
          },
          "metadata": {},
          "execution_count": 20
        }
      ]
    }
  ]
}